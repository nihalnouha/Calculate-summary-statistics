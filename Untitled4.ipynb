{
 "cells": [
  {
   "cell_type": "code",
   "execution_count": 16,
   "id": "416b1cb8-61c2-4a80-950e-90f54a0b141d",
   "metadata": {},
   "outputs": [
    {
     "name": "stdout",
     "output_type": "stream",
     "text": [
      "Missing values:\n",
      " PassengerId      0\n",
      "Survived         0\n",
      "Pclass           0\n",
      "Name             0\n",
      "Sex              0\n",
      "Age            177\n",
      "SibSp            0\n",
      "Parch            0\n",
      "Ticket           0\n",
      "Fare             0\n",
      "Cabin          687\n",
      "Embarked         2\n",
      "dtype: int64\n",
      "Mean:\n",
      " PassengerId    446.000000\n",
      "Survived         0.383838\n",
      "Pclass           2.308642\n",
      "Age             29.699118\n",
      "SibSp            0.523008\n",
      "Parch            0.381594\n",
      "Fare            32.204208\n",
      "dtype: float64\n",
      "Median:\n",
      " [446.       0.       3.          nan   0.       0.      14.4542]\n",
      "Mode:\n",
      " PassengerId     1.00\n",
      "Survived        0.00\n",
      "Pclass          3.00\n",
      "Age            24.00\n",
      "SibSp           0.00\n",
      "Parch           0.00\n",
      "Fare            8.05\n",
      "Name: 0, dtype: float64\n",
      "Standard Deviation:\n",
      " PassengerId    257.209383\n",
      "Survived         0.486319\n",
      "Pclass           0.835602\n",
      "Age             14.516321\n",
      "SibSp            1.102124\n",
      "Parch            0.805605\n",
      "Fare            49.665534\n",
      "dtype: float64\n"
     ]
    }
   ],
   "source": [
    "import numpy as np\n",
    "import pandas as pd\n",
    "\n",
    "df = pd.read_csv(\"train.csv\")\n",
    "\n",
    "# Calculate missing values\n",
    "missing_values = df.isnull().sum()\n",
    "print(\"Missing values:\\n\", missing_values)\n",
    "\n",
    "# Select only numeric columns\n",
    "numeric_df = df.select_dtypes(include=np.number)\n",
    "\n",
    "# Calculate mean along columns\n",
    "mean = np.mean(numeric_df, axis=0)\n",
    "\n",
    "# Calculate median along columns\n",
    "median = np.median(numeric_df, axis=0)\n",
    "\n",
    "# Calculate mode along columns\n",
    "mode_values = numeric_df.mode().iloc[0]\n",
    "\n",
    "# Calculate standard deviation along columns\n",
    "std_dev = np.std(numeric_df, axis=0)\n",
    "\n",
    "print(\"Mean:\\n\", mean)\n",
    "print(\"Median:\\n\", median)\n",
    "print(\"Mode:\\n\", mode_values)\n",
    "print(\"Standard Deviation:\\n\", std_dev)\n"
   ]
  }
 ],
 "metadata": {
  "kernelspec": {
   "display_name": "Python 3 (ipykernel)",
   "language": "python",
   "name": "python3"
  },
  "language_info": {
   "codemirror_mode": {
    "name": "ipython",
    "version": 3
   },
   "file_extension": ".py",
   "mimetype": "text/x-python",
   "name": "python",
   "nbconvert_exporter": "python",
   "pygments_lexer": "ipython3",
   "version": "3.11.7"
  }
 },
 "nbformat": 4,
 "nbformat_minor": 5
}
